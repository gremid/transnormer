{
 "cells": [
  {
   "cell_type": "code",
   "execution_count": 1,
   "metadata": {},
   "outputs": [
    {
     "name": "stderr",
     "output_type": "stream",
     "text": [
      "/home/bracke/miniconda3/envs/gpu-venv-transnormer/lib/python3.9/site-packages/tqdm/auto.py:22: TqdmWarning: IProgress not found. Please update jupyter and ipywidgets. See https://ipywidgets.readthedocs.io/en/stable/user_install.html\n",
      "  from .autonotebook import tqdm as notebook_tqdm\n"
     ]
    }
   ],
   "source": [
    "import transformers\n",
    "import torch\n",
    "import pandas as pd"
   ]
  },
  {
   "cell_type": "code",
   "execution_count": 2,
   "metadata": {},
   "outputs": [],
   "source": [
    "# Set-up device, tokenizer, model\n",
    "device = torch.device(\"cuda:0\" if torch.cuda.is_available() else \"cpu\")\n",
    "model = transformers.T5ForConditionalGeneration.from_pretrained(\"/home/bracke/code/transnormer/models/models_2023-06-12/checkpoint-15000\").to(device)\n",
    "# model = transformers.T5ForConditionalGeneration.from_pretrained(\"/home/bracke/code/transnormer/models/models_2023-06-13/checkpoint-800\").to(device)\n",
    "# model_orig = transformers.T5ForConditionalGeneration.from_pretrained(\"google/byt5-small\").to(device)\n",
    "tokenizer = transformers.AutoTokenizer.from_pretrained(\"google/byt5-small\")"
   ]
  },
  {
   "cell_type": "code",
   "execution_count": 9,
   "metadata": {},
   "outputs": [
    {
     "name": "stdout",
     "output_type": "stream",
     "text": [
      "tensor(18.5427, device='cuda:0', grad_fn=<NllLossBackward0>)\n"
     ]
    }
   ],
   "source": [
    "# Input string\n",
    "s_orig = \"Nach etlichen Taͤntzen kam vnſer Præſidentin wider daher/ vnd vermeldet vns wie das ſich die Kuͤnſtler vnd Studioſi\"# gegen jhrer Koͤnig. Majeſt. erbotten/ deren zu ehren/ vnd gefallen vor dero abzug/ ein froͤliche Comœdiam  zu agieren/ wolten nuhn wir derſelben auch beywohnen/ vnd Koͤnig. Ma. auff der Sonnen Hauß begleiten/ daß were dero Lieb/ vnd wolte ſolches in allen gnaden erkennen:\"\n",
    "s_norm = \"Nach etlichen Tänzen kam unser Präsidentin wider daher/ und vermeldet uns wie das sich die Künstler und Studiosi\"# gegen ihrer König. Majest. erboten/ deren zu ehren/ und gefallen vor deren Abzug/ ein fröhliche Comoediam zu agieren/ wollten nun wir derselben auch beiwohnen/ und König. Ma. auf der Sonnen Haus begleiten/ dass wäre deren Liebe/ und wollte solches in allen Gnaden erkennen:\" \n",
    "s_orig = \"Mercks Wienn/ Das iſt: Deß wuͤtenden Todts Ein umſtaͤndige Beſchreibung/ Jn Der beruͤhmten Haupt- und Kaͤiſerl.\"\n",
    "s_norm = \"Mercks Wien/ Das iſt: Des wütenden Tods Ein umständige Beschreibung/ In Der berühmten Haupt- und Kaiserl.\"\n",
    "s_norm = \"Merks Wien/ Das ist: Des wütenden Tods Ein umständige Beschreibung/ In Der berühmten Haupt- und Käiserl.\"\n",
    "s_orig = 'Weilen des menschen Lebent ist kürtz seine gedechtnüs Schwag, und die Sinne zum Misverstendtnüs stets geneiget (...)'\n",
    "s_norm = \"DUMMY\"\n",
    "\n",
    "inputs = tokenizer(s_orig, padding=\"max_length\", truncation=True, max_length=512, return_tensors=\"pt\")\n",
    "outputs = tokenizer(s_norm, padding=\"max_length\", truncation=True, max_length=512, return_tensors=\"pt\")\n",
    "input_ids = inputs.input_ids.to(device)\n",
    "output_ids = outputs.input_ids.to(device)\n",
    "output_ids[output_ids==0] = -100 # replace padding token with -100\n",
    "attention_mask = inputs.attention_mask.to(device)\n",
    "example = {\n",
    "    \"input_ids\":input_ids,\n",
    "    \"attention_mask\":attention_mask,\n",
    "    \"labels\":output_ids\n",
    "}\n",
    "\n",
    "# Loss\n",
    "output_forward = model(**example)\n",
    "print(output_forward.loss)\n",
    "# output_forward = model_orig(**example)\n",
    "# print(output_forward.loss)"
   ]
  },
  {
   "cell_type": "code",
   "execution_count": 10,
   "metadata": {},
   "outputs": [
    {
     "name": "stdout",
     "output_type": "stream",
     "text": [
      "Weilen des Menschen Lebend ist kürz seine Gedechtnis Schwag, und die Sinne zum Misverstendnis stets geneigt (...)\"\n"
     ]
    }
   ],
   "source": [
    "\n",
    "# Generation\n",
    "output_gen = model.generate(\n",
    "    input_ids, \n",
    "    attention_mask=attention_mask, \n",
    "    max_length=512,\n",
    "    no_repeat_ngram_size=0,\n",
    "    # early_stopping = True,\n",
    "    length_penalty=2.0,\n",
    "    num_beams=3,\n",
    "    )\n",
    "# del input_ids, attention_mask # free memory\n",
    "outputs_as_str = tokenizer.batch_decode(output_gen, skip_special_tokens=True)\n",
    "print(outputs_as_str[0])"
   ]
  },
  {
   "attachments": {},
   "cell_type": "markdown",
   "metadata": {},
   "source": [
    "Byte: Weilen des Menschen Lebend ist kürz seine Gedechtnis Schwag, und die Sinne zum Misverstendnis stets geneigt (...)\n",
    "Subword: Weilen des Menschen Lebent ist kürz seine Gedächtnis Schwag, und die Sinne zum Missverstendtnis stets geneigt (... )\n",
    "Gold: Weilen des Menschen Leben ist kurz seine Gedächtnis schwach, und die Sinne zum Missverständnis stets geneigt"
   ]
  },
  {
   "attachments": {},
   "cell_type": "markdown",
   "metadata": {},
   "source": [
    "---"
   ]
  },
  {
   "attachments": {},
   "cell_type": "markdown",
   "metadata": {},
   "source": [
    "## Sentences from the train set\n",
    "\n",
    "`orig:` 'Nach etlichen Taͤntzen kam vnſer Præſidentin wider daher/ vnd vermeldet vns wie das ſich die Kuͤnſtler vnd Studioſi gegen jhrer Koͤnig. Majeſt. erbotten/ deren zu ehren/ vnd gefallen vor dero abzug/ ein froͤliche Comœdiam zu agieren/ wolten nuhn wir derſelben auch beywohnen/ vnd Koͤnig. Ma. auff der Sonnen Hauß begleiten/ daß were dero Lieb/ vnd wolte ſolches in allen gnaden erkennen:'\n",
    "\n",
    "`CAB-norm:` 'Nach etlichen Tänzen kam unser Präsidentin wider daher/ und vermeldet uns wie das sich die Künstler und Studiosi gegen ihrer König. Majest. erboten/ deren zu ehren/ und gefallen vor deren Abzug/ ein fröhliche Comoediam zu agieren/ wollten nun wir derselben auch beiwohnen/ und König. Ma. auf der Sonnen Haus begleiten/ dass wäre deren Liebe/ und wollte solches in allen Gnaden erkennen:'"
   ]
  },
  {
   "cell_type": "code",
   "execution_count": 11,
   "metadata": {},
   "outputs": [
    {
     "data": {
      "text/plain": [
       "'Mercks Wienn/ Das iſt: Deß wuͤtenden Todts Ein umſtaͤndige Beſchreibung/ Jn Der beruͤhmten Haupt- und Kaͤiſerl.'"
      ]
     },
     "execution_count": 11,
     "metadata": {},
     "output_type": "execute_result"
    }
   ],
   "source": [
    "my_string = r\"Mercks Wienn/ Das i\\u017ft: De\\u00df wu\\u0364tenden Todts Ein um\\u017fta\\u0364ndige Be\\u017fchreibung/ Jn Der beru\\u0364hmten Haupt- und Ka\\u0364i\\u017ferl.\"\n",
    "bytes(my_string, \"utf-8\").decode(\"unicode_escape\")"
   ]
  }
 ],
 "metadata": {
  "kernelspec": {
   "display_name": "gpu-venv-transnormer",
   "language": "python",
   "name": "python3"
  },
  "language_info": {
   "codemirror_mode": {
    "name": "ipython",
    "version": 3
   },
   "file_extension": ".py",
   "mimetype": "text/x-python",
   "name": "python",
   "nbconvert_exporter": "python",
   "pygments_lexer": "ipython3",
   "version": "3.9.16"
  },
  "orig_nbformat": 4,
  "vscode": {
   "interpreter": {
    "hash": "78c4187baaf57098bb0b3703ce789bfcb46625a5d8666ee97b80d797f8c6f211"
   }
  }
 },
 "nbformat": 4,
 "nbformat_minor": 2
}
