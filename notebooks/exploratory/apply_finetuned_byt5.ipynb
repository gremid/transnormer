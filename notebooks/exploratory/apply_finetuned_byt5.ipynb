{
 "cells": [
  {
   "cell_type": "code",
   "execution_count": 1,
   "metadata": {},
   "outputs": [
    {
     "name": "stderr",
     "output_type": "stream",
     "text": [
      "/home/bracke/miniconda3/envs/gpu-venv-transnormer/lib/python3.9/site-packages/tqdm/auto.py:22: TqdmWarning: IProgress not found. Please update jupyter and ipywidgets. See https://ipywidgets.readthedocs.io/en/stable/user_install.html\n",
      "  from .autonotebook import tqdm as notebook_tqdm\n"
     ]
    }
   ],
   "source": [
    "import transformers\n",
    "import torch\n",
    "import pandas as pd"
   ]
  },
  {
   "cell_type": "code",
   "execution_count": 2,
   "metadata": {},
   "outputs": [
    {
     "name": "stdout",
     "output_type": "stream",
     "text": [
      "<class 'transformers.models.t5.modeling_t5.T5ForConditionalGeneration'>\n",
      "<class 'transformers.models.byt5.tokenization_byt5.ByT5Tokenizer'>\n"
     ]
    }
   ],
   "source": [
    "# Set-up device, tokenizer, model\n",
    "device = torch.device(\"cuda:0\" if torch.cuda.is_available() else \"cpu\")\n",
    "# model = transformers.T5ForConditionalGeneration.from_pretrained(\"/home/bracke/code/transnormer/models/model/checkpoint-800\").to(device)\n",
    "# tokenizer = transformers.AutoTokenizer.from_pretrained(\"google/byt5-small\")\n",
    "model = transformers.AutoModel.from_pretrained(\"/home/bracke/code/transnormer/models/models_2023-03-16_15-24/checkpoint-100000\").to(device)\n",
    "\n",
    "print(type(model))\n",
    "print(type(tokenizer))"
   ]
  },
  {
   "cell_type": "code",
   "execution_count": 20,
   "metadata": {},
   "outputs": [],
   "source": [
    "# Input string\n",
    "s_orig = \"Wie ſie jhre Freunde ſo ſie beſuch en empfangen.\"\n",
    "s_norm = 'Wie sie ihre Freunde so sie besuche en empfangen.'\n",
    "# s_orig = \"Nach etlichen Taͤntzen kam vnſer Præſidentin wider daher/ vnd vermeldet vns wie das ſich die Kuͤnſtler vnd Studioſi gegen jhrer Koͤnig. Majeſt. erbotten/ deren zu ehren/ vnd gefallen vor dero abzug/ ein froͤliche Comœdiam zu agieren/ wolten nuhn wir derſelben auch beywohnen/ vnd Koͤnig. Ma. auff der Sonnen Hauß begleiten/ daß were dero Lieb/ vnd wolte ſolches in allen gnaden erkennen:\"\n",
    "# s_norm = \"Nach etlichen Tänzen kam unser Präsidentin wider daher/ und vermeldet uns wie das sich die Künstler und Studiosi gegen ihrer König. Majest. erboten/ deren zu ehren/ und gefallen vor deren Abzug/ ein fröhliche Comoediam zu agieren/ wollten nun wir derselben auch beiwohnen/ und König. Ma. auf der Sonnen Haus begleiten/ dass wäre deren Liebe/ und wollte solches in allen Gnaden erkennen:\" \n",
    "\n",
    "s_orig = \"ſolen \" #* 10\n",
    "s_norm = \"Solen \" #* 150\n",
    "\n",
    "# s_norm = \"foo bar\" \n",
    "inputs = tokenizer(s_orig, padding=\"max_length\", truncation=True, max_length=256, return_tensors=\"pt\")\n",
    "outputs = tokenizer(s_norm, padding=\"max_length\", truncation=True, max_length=256, return_tensors=\"pt\")\n",
    "input_ids = inputs.input_ids.to(device)\n",
    "output_ids = outputs.input_ids.to(device)\n",
    "output_ids[output_ids==0] = -100 # replace padding token with -100\n",
    "attention_mask = inputs.attention_mask.to(device)\n",
    "example = {\n",
    "    \"input_ids\":input_ids,\n",
    "    \"attention_mask\":attention_mask,\n",
    "    \"labels\":output_ids\n",
    "}\n"
   ]
  },
  {
   "cell_type": "code",
   "execution_count": 21,
   "metadata": {},
   "outputs": [
    {
     "data": {
      "text/plain": [
       "tensor(0.2410, device='cuda:0', grad_fn=<NllLossBackward0>)"
      ]
     },
     "execution_count": 21,
     "metadata": {},
     "output_type": "execute_result"
    }
   ],
   "source": [
    "# Loss\n",
    "output_forward = model(**example)\n",
    "output_forward.loss"
   ]
  },
  {
   "cell_type": "code",
   "execution_count": 16,
   "metadata": {},
   "outputs": [
    {
     "name": "stdout",
     "output_type": "stream",
     "text": [
      "Solen \n"
     ]
    }
   ],
   "source": [
    "# Generation\n",
    "output_gen = model.generate(\n",
    "    input_ids, \n",
    "    attention_mask=attention_mask, \n",
    "    max_length=256,\n",
    "    no_repeat_ngram_size = 3,\n",
    "    early_stopping = True,\n",
    "    length_penalty = 2.0,\n",
    "    num_beams = 4,\n",
    "    \n",
    "    )\n",
    "# del input_ids, attention_mask # free memory\n",
    "output_str = tokenizer.batch_decode(output_gen, skip_special_tokens=True)[0]\n",
    "print(output_str)"
   ]
  },
  {
   "cell_type": "code",
   "execution_count": 6,
   "metadata": {},
   "outputs": [
    {
     "data": {
      "text/html": [
       "<table border=\"1\" class=\"dataframe\">\n",
       "  <thead>\n",
       "    <tr style=\"text-align: right;\">\n",
       "      <th></th>\n",
       "      <th>0</th>\n",
       "    </tr>\n",
       "  </thead>\n",
       "  <tbody>\n",
       "    <tr>\n",
       "      <th>0</th>\n",
       "      <td>Abc</td>\n",
       "    </tr>\n",
       "  </tbody>\n",
       "</table>"
      ],
      "text/plain": [
       "<IPython.core.display.HTML object>"
      ]
     },
     "metadata": {},
     "output_type": "display_data"
    }
   ],
   "source": [
    "# Display output\n",
    "from IPython.core.display import HTML\n",
    "df_example = pd.DataFrame(data=output_str)\n",
    "display(HTML(df_example.head(1).to_html(escape=False)))"
   ]
  },
  {
   "attachments": {},
   "cell_type": "markdown",
   "metadata": {},
   "source": [
    "---"
   ]
  },
  {
   "attachments": {},
   "cell_type": "markdown",
   "metadata": {},
   "source": [
    "# Sentences from the train set\n",
    "\n",
    "'Nach etlichen Taͤntzen kam vnſer Præſidentin wider daher/ vnd vermeldet vns wie das ſich die Kuͤnſtler vnd Studioſi gegen jhrer Koͤnig. Majeſt. erbotten/ deren zu ehren/ vnd gefallen vor dero abzug/ ein froͤliche Comœdiam zu agieren/ wolten nuhn wir derſelben auch beywohnen/ vnd Koͤnig. Ma. auff der Sonnen Hauß begleiten/ daß were dero Lieb/ vnd wolte ſolches in allen gnaden erkennen:'\n",
    "\n",
    "CAB-norm: 'Nach etlichen Tänzen kam unser Präsidentin wider daher/ und vermeldet uns wie das sich die Künstler und Studiosi gegen ihrer König. Majest. erboten/ deren zu ehren/ und gefallen vor deren Abzug/ ein fröhliche Comoediam zu agieren/ wollten nun wir derselben auch beiwohnen/ und König. Ma. auf der Sonnen Haus begleiten/ dass wäre deren Liebe/ und wollte solches in allen Gnaden erkennen:'"
   ]
  }
 ],
 "metadata": {
  "kernelspec": {
   "display_name": "gpu-venv-transnormer",
   "language": "python",
   "name": "python3"
  },
  "language_info": {
   "codemirror_mode": {
    "name": "ipython",
    "version": 3
   },
   "file_extension": ".py",
   "mimetype": "text/x-python",
   "name": "python",
   "nbconvert_exporter": "python",
   "pygments_lexer": "ipython3",
   "version": "3.9.16"
  },
  "orig_nbformat": 4,
  "vscode": {
   "interpreter": {
    "hash": "78c4187baaf57098bb0b3703ce789bfcb46625a5d8666ee97b80d797f8c6f211"
   }
  }
 },
 "nbformat": 4,
 "nbformat_minor": 2
}
