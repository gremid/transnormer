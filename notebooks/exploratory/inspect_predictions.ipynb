{
 "cells": [
  {
   "attachments": {},
   "cell_type": "markdown",
   "metadata": {},
   "source": [
    "# Inspecting normalizations"
   ]
  },
  {
   "attachments": {},
   "cell_type": "markdown",
   "metadata": {},
   "source": [
    "Note: This notebook should only be used to generate predictions on git branches created from a dvc experiment. On the main/dev branch this notebook will only be updated when changes to the code are necessary, but it will not be used to generate predictions there."
   ]
  },
  {
   "attachments": {},
   "cell_type": "markdown",
   "metadata": {},
   "source": [
    "## Prepare data and get normalizations"
   ]
  },
  {
   "cell_type": "code",
   "execution_count": 1,
   "metadata": {},
   "outputs": [
    {
     "name": "stderr",
     "output_type": "stream",
     "text": [
      "/home/bracke/miniconda3/envs/gpu-venv-transnormer/lib/python3.9/site-packages/tqdm/auto.py:22: TqdmWarning: IProgress not found. Please update jupyter and ipywidgets. See https://ipywidgets.readthedocs.io/en/stable/user_install.html\n",
      "  from .autonotebook import tqdm as notebook_tqdm\n"
     ]
    }
   ],
   "source": [
    "import os\n",
    "import random\n",
    "import tomli\n",
    "\n",
    "import datasets\n",
    "import numpy as np\n",
    "import pandas as pd\n",
    "import torch\n",
    "import transformers\n",
    "from transnormer.models.train_model import tokenize_datasets\n",
    "from transnormer.evaluation.analysis import get_spans_of_unknown_tokens\n",
    "from transnormer.visualization.formatting import markup_spans"
   ]
  },
  {
   "cell_type": "code",
   "execution_count": 2,
   "metadata": {},
   "outputs": [],
   "source": [
    "# Number of examples to generate predictions for\n",
    "N = 10"
   ]
  },
  {
   "cell_type": "code",
   "execution_count": 3,
   "metadata": {},
   "outputs": [],
   "source": [
    "# Load configs\n",
    "ROOT = \"../../\"\n",
    "CONFIGFILE = os.path.join(ROOT, \"models/models_2023-03-16_15-24/training_config.toml\")\n",
    "with open(CONFIGFILE, mode=\"rb\") as fp:\n",
    "    CONFIGS = tomli.load(fp)\n",
    "\n",
    "# OR: Use custom configs (if so: uncomment the following)\n",
    "# CONFIGS = {\n",
    "#     \"gpu\": \"cuda:0\",\n",
    "#     \"random_seed\": 42,\n",
    "#     \"tokenizer\": {\n",
    "#         \"max_length_input\": 128,\n",
    "#         \"max_length_output\": 128,\n",
    "#         \"input_transliterator\": \"Transliterator1\",\n",
    "#     },\n",
    "#     \"language_models\": {\n",
    "#         \"checkpoint_encoder\": \"prajjwal1/bert-tiny\",\n",
    "#         \"checkpoint_decoder\": \"prajjwal1/bert-tiny\",\n",
    "#     },\n",
    "#     \"beam_search_decoding\": {\n",
    "#         \"no_repeat_ngram_size\": 3,\n",
    "#         \"early_stopping\": True,\n",
    "#         \"length_penalty\": 2.0,\n",
    "#         \"num_beams\": 4,\n",
    "#     },\n",
    "# }"
   ]
  },
  {
   "cell_type": "code",
   "execution_count": 4,
   "metadata": {},
   "outputs": [],
   "source": [
    "# Fix seeds for reproducibilty\n",
    "random.seed(CONFIGS[\"random_seed\"])\n",
    "np.random.seed(CONFIGS[\"random_seed\"])\n",
    "torch.manual_seed(CONFIGS[\"random_seed\"])\n",
    "\n",
    "# GPU set-up\n",
    "device = torch.device(CONFIGS[\"gpu\"] if torch.cuda.is_available() else \"cpu\")"
   ]
  },
  {
   "cell_type": "code",
   "execution_count": 5,
   "metadata": {},
   "outputs": [
    {
     "name": "stderr",
     "output_type": "stream",
     "text": [
      "Using custom data configuration default-0e8e502d3435a016\n",
      "Found cached dataset json (/home/bracke/.cache/huggingface/datasets/json/default-0e8e502d3435a016/0.0.0/0f7e3662623656454fcd2b650f34e886a7db4b9104504885bd462096cc7a9f51)\n",
      "100%|██████████| 1/1 [00:00<00:00, 30.77it/s]\n"
     ]
    }
   ],
   "source": [
    "# Load data \n",
    "data_files = {\n",
    "    \"1600to1699\": os.path.join(ROOT, \"data/interim/dtak-v03-1600-1699/dtak-v03-1600-1699-train.jsonl\"),\n",
    "    # \"1700to1799\": os.path.join(ROOT, \"data/interim/dtak-1700-1799/dtak-1700-1799-validation.jsonl\"),\n",
    "    # \"1800to1899\": os.path.join(ROOT, \"data/interim/dtak-1800-1899/dtak-1800-1899-validation.jsonl\"),\n",
    "}\n",
    "ds = datasets.load_dataset(\"json\", data_files=data_files)\n",
    "\n",
    "ds[\"1600to1699\"] = ds[\"1600to1699\"].shuffle().select(range(N))\n",
    "# ds[\"1700to1799\"] = ds[\"1700to1799\"].shuffle().select(range(N))\n",
    "# ds[\"1800to1899\"] = ds[\"1800to1899\"].shuffle().select(range(N))"
   ]
  },
  {
   "cell_type": "code",
   "execution_count": 6,
   "metadata": {},
   "outputs": [
    {
     "name": "stderr",
     "output_type": "stream",
     "text": [
      "Parameter 'fn_kwargs'={'tokenizer_input': BertTokenizerFast(name_or_path='dbmdz/bert-base-historic-multilingual-cased', vocab_size=32000, model_max_length=512, is_fast=True, padding_side='right', truncation_side='right', special_tokens={'unk_token': '[UNK]', 'sep_token': '[SEP]', 'pad_token': '[PAD]', 'cls_token': '[CLS]', 'mask_token': '[MASK]'}), 'tokenizer_output': BertTokenizerFast(name_or_path='bert-base-multilingual-cased', vocab_size=119547, model_max_length=512, is_fast=True, padding_side='right', truncation_side='right', special_tokens={'unk_token': '[UNK]', 'sep_token': '[SEP]', 'pad_token': '[PAD]', 'cls_token': '[CLS]', 'mask_token': '[MASK]'}), 'max_length_input': 128, 'max_length_output': 128} of the transform datasets.arrow_dataset.Dataset._map_single couldn't be hashed properly, a random hash was used instead. Make sure your transforms and parameters are serializable with pickle or dill for the dataset fingerprinting and caching to work. If you reuse this transform, the caching mechanism will consider it to be different from the previous calls and recompute everything. This warning is only showed once. Subsequent hashing failures won't be showed.\n",
      "100%|██████████| 1/1 [00:00<00:00, 42.57ba/s]\n"
     ]
    }
   ],
   "source": [
    "# Tokenize data \n",
    "\n",
    "# In case we use locally saved models for the tokenizers\n",
    "# the relative path must be completed. Uncomment the respective line.\n",
    "# CONFIGS[\"language_models\"][\"checkpoint_encoder\"] = os.path.join(ROOT, CONFIGS[\"language_models\"][\"checkpoint_encoder\"])\n",
    "# CONFIGS[\"language_models\"][\"checkpoint_decoder\"] = os.path.join(ROOT, CONFIGS[\"language_models\"][\"checkpoint_decoder\"])\n",
    "\n",
    "prepared_dataset, tokenizer_input, tokenizer_output = tokenize_datasets(ds, CONFIGS)"
   ]
  },
  {
   "cell_type": "code",
   "execution_count": 7,
   "metadata": {},
   "outputs": [],
   "source": [
    "# Load model\n",
    "checkpoint = os.path.join(ROOT, \"models/models_2023-03-16_15-24/checkpoint-100000\") # TODO\n",
    "model = transformers.EncoderDecoderModel.from_pretrained(checkpoint).to(device)"
   ]
  },
  {
   "cell_type": "code",
   "execution_count": 8,
   "metadata": {},
   "outputs": [
    {
     "name": "stderr",
     "output_type": "stream",
     "text": [
      "  0%|          | 0/2 [00:00<?, ?ba/s]/home/bracke/miniconda3/envs/gpu-venv-transnormer/lib/python3.9/site-packages/transformers/generation/utils.py:1186: UserWarning: You have modified the pretrained model configuration to control generation. This is a deprecated strategy to control generation and will be removed soon, in a future version. Please use a generation configuration file (see https://huggingface.co/docs/transformers/main_classes/text_generation)\n",
      "  warnings.warn(\n",
      "/home/bracke/miniconda3/envs/gpu-venv-transnormer/lib/python3.9/site-packages/transformers/generation/utils.py:1273: UserWarning: Neither `max_length` nor `max_new_tokens` has been set, `max_length` will default to 128 (`generation_config.max_length`). Controlling `max_length` via the config is deprecated and `max_length` will be removed from the config in v5 of Transformers -- we recommend using `max_new_tokens` to control the maximum length of the generation.\n",
      "  warnings.warn(\n",
      "100%|██████████| 2/2 [00:09<00:00,  4.75s/ba]\n"
     ]
    }
   ],
   "source": [
    "# Generate normalizations\n",
    "# TODO: Do we have to include a configuration for beam search decoding here?\n",
    "def generate_normalization(batch):\n",
    "    inputs = tokenizer_input(batch[\"orig\"], padding=\"max_length\", truncation=True, max_length=128, return_tensors=\"pt\")\n",
    "    input_ids = inputs.input_ids.to(device)\n",
    "    attention_mask = inputs.attention_mask.to(device)\n",
    "\n",
    "    outputs = model.generate(input_ids, attention_mask=attention_mask)\n",
    "    output_str = tokenizer_output.batch_decode(outputs, skip_special_tokens=True)\n",
    "\n",
    "    batch[\"norm_pred_str\"] = output_str\n",
    "\n",
    "    return batch\n",
    "\n",
    "\n",
    "ds = ds.map(\n",
    "    generate_normalization, \n",
    "    batched=True, \n",
    "    batch_size=8, \n",
    "    load_from_cache_file=False,\n",
    "    )\n"
   ]
  },
  {
   "attachments": {},
   "cell_type": "markdown",
   "metadata": {},
   "source": [
    "### Apply visual modifications \n"
   ]
  },
  {
   "attachments": {},
   "cell_type": "markdown",
   "metadata": {},
   "source": [
    "\n",
    "1. Markup unknown tokens in red\n",
    "2. Add token-separator (\"|\") in input text\n",
    "2. Add token-separator (\"|\") in output text"
   ]
  },
  {
   "cell_type": "code",
   "execution_count": 9,
   "metadata": {},
   "outputs": [
    {
     "name": "stderr",
     "output_type": "stream",
     "text": [
      "100%|██████████| 10/10 [00:00<00:00, 2021.84ex/s]\n"
     ]
    }
   ],
   "source": [
    "# Apply HTML markup to unknown tokens in original text\n",
    "def markup_unknown_tokens(batch):\n",
    "    spans = get_spans_of_unknown_tokens(batch[\"orig\"], tokenizer_input)\n",
    "    text_marked_up = markup_spans(batch[\"orig\"], spans, opening_tag=\"<span style='color:#FF0000'>\")\n",
    "\n",
    "    batch[\"orig_marked_up\"] = text_marked_up\n",
    "    return batch\n",
    "\n",
    "ds = ds.map(markup_unknown_tokens, batched=False, )"
   ]
  },
  {
   "cell_type": "code",
   "execution_count": 10,
   "metadata": {},
   "outputs": [
    {
     "name": "stderr",
     "output_type": "stream",
     "text": [
      "100%|██████████| 10/10 [00:00<00:00, 735.33ex/s]\n",
      "100%|██████████| 10/10 [00:00<00:00, 1271.77ex/s]\n"
     ]
    }
   ],
   "source": [
    "# Add token-separator \n",
    "def separate_tokens(batch, column, tokenizer):\n",
    "    # We have to do the normalization explicitly before getting the encoding\n",
    "    # to avoid mismatches in case the normalization changes the string length, e.g. \"æ -> ae\"\n",
    "    norm_str = tokenizer.backend_tokenizer.normalizer.normalize_str(batch[column])\n",
    "    encoding = tokenizer(norm_str, add_special_tokens=False)\n",
    "    spans = [\n",
    "        # map a token index to a pair of character indices\n",
    "        encoding.token_to_chars(token_index)[:] for token_index in range(len(encoding[\"input_ids\"]))\n",
    "    ]\n",
    "    text_marked_up = markup_spans(\n",
    "        tokenizer.backend_tokenizer.normalizer.normalize_str(batch[column]),\n",
    "        spans,\n",
    "        opening_tag=\"\",\n",
    "        closing_tag=\"<span style='color:#FFA500'>|</span>\",\n",
    "        )\n",
    "\n",
    "    batch[f\"{column}_xlit_tok\"] = text_marked_up\n",
    "    return batch\n",
    "\n",
    "ds = ds.map(separate_tokens, fn_kwargs={\"tokenizer\":tokenizer_input, \"column\" : \"orig\"}, batched=False, load_from_cache_file=False)\n",
    "ds = ds.map(separate_tokens, fn_kwargs={\"tokenizer\":tokenizer_output, \"column\" : \"norm_pred_str\"}, batched=False, load_from_cache_file=False)"
   ]
  },
  {
   "cell_type": "code",
   "execution_count": 11,
   "metadata": {},
   "outputs": [],
   "source": [
    "# Create pandas dataframes from predictions\n",
    "\n",
    "# Do no truncate cells with long text\n",
    "pd.set_option('display.max_colwidth', None)\n",
    "\n",
    "part = \"1600to1699\"\n",
    "df1600to1699 = pd.DataFrame(\n",
    "    data={\n",
    "        \"orig_xlit\" : ds[part][\"orig_xlit_tok\"], \n",
    "        \"norm_tok\" : ds[part][\"norm_pred_str_xlit_tok\"], \n",
    "        }\n",
    "    )\n",
    "\n",
    "# part = \"1700to1799\"\n",
    "# df1700to1799 = pd.DataFrame(\n",
    "#     data={\n",
    "#         \"orig_xlit\" : ds[part][\"orig_xlit_tok\"], \n",
    "#         \"norm_tok\" : ds[part][\"norm_pred_str_xlit_tok\"], \n",
    "#         }\n",
    "#     )\n",
    "\n",
    "# part = \"1800to1899\"\n",
    "# df1800to1899 = pd.DataFrame(\n",
    "#     data={\n",
    "#         \"orig_xlit\" : ds[part][\"orig_xlit_tok\"], \n",
    "#         \"norm_tok\" : ds[part][\"norm_pred_str_xlit_tok\"], \n",
    "#         }\n",
    "#     )"
   ]
  },
  {
   "attachments": {},
   "cell_type": "markdown",
   "metadata": {},
   "source": [
    "---"
   ]
  },
  {
   "attachments": {},
   "cell_type": "markdown",
   "metadata": {},
   "source": [
    "## Look at the dataframes"
   ]
  },
  {
   "attachments": {},
   "cell_type": "markdown",
   "metadata": {},
   "source": [
    "### 1600 to 1699"
   ]
  },
  {
   "cell_type": "code",
   "execution_count": 12,
   "metadata": {},
   "outputs": [
    {
     "data": {
      "text/html": [
       "<table border=\"1\" class=\"dataframe\">\n",
       "  <thead>\n",
       "    <tr style=\"text-align: right;\">\n",
       "      <th></th>\n",
       "      <th>orig_xlit</th>\n",
       "      <th>norm_tok</th>\n",
       "    </tr>\n",
       "  </thead>\n",
       "  <tbody>\n",
       "    <tr>\n",
       "      <th>0</th>\n",
       "      <td>Wie<span style='color:#FFA500'>|</span> sie<span style='color:#FFA500'>|</span> j<span style='color:#FFA500'>|</span>hre<span style='color:#FFA500'>|</span> Freunde<span style='color:#FFA500'>|</span> so<span style='color:#FFA500'>|</span> sie<span style='color:#FFA500'>|</span> bes<span style='color:#FFA500'>|</span>uch<span style='color:#FFA500'>|</span> en<span style='color:#FFA500'>|</span> empfangen<span style='color:#FFA500'>|</span>.<span style='color:#FFA500'>|</span></td>\n",
       "      <td>Wie<span style='color:#FFA500'>|</span> sie<span style='color:#FFA500'>|</span> ihre<span style='color:#FFA500'>|</span> Freunde<span style='color:#FFA500'>|</span> so<span style='color:#FFA500'>|</span> sie<span style='color:#FFA500'>|</span> be<span style='color:#FFA500'>|</span>su<span style='color:#FFA500'>|</span>che<span style='color:#FFA500'>|</span> en<span style='color:#FFA500'>|</span> em<span style='color:#FFA500'>|</span>pf<span style='color:#FFA500'>|</span>angen<span style='color:#FFA500'>|</span>.<span style='color:#FFA500'>|</span></td>\n",
       "    </tr>\n",
       "    <tr>\n",
       "      <th>1</th>\n",
       "      <td>XXX<span style='color:#FFA500'>|</span>VI<span style='color:#FFA500'>|</span>.<span style='color:#FFA500'>|</span></td>\n",
       "      <td>XXX<span style='color:#FFA500'>|</span>VI<span style='color:#FFA500'>|</span>.<span style='color:#FFA500'>|</span></td>\n",
       "    </tr>\n",
       "    <tr>\n",
       "      <th>2</th>\n",
       "      <td>Nach<span style='color:#FFA500'>|</span> et<span style='color:#FFA500'>|</span>lichen<span style='color:#FFA500'>|</span> Ta<span style='color:#FFA500'>|</span>entz<span style='color:#FFA500'>|</span>en<span style='color:#FFA500'>|</span> kam<span style='color:#FFA500'>|</span> vn<span style='color:#FFA500'>|</span>ser<span style='color:#FFA500'>|</span> Pra<span style='color:#FFA500'>|</span>esi<span style='color:#FFA500'>|</span>dent<span style='color:#FFA500'>|</span>in<span style='color:#FFA500'>|</span> wider<span style='color:#FFA500'>|</span> daher<span style='color:#FFA500'>|</span>/<span style='color:#FFA500'>|</span> vn<span style='color:#FFA500'>|</span>d<span style='color:#FFA500'>|</span> verme<span style='color:#FFA500'>|</span>ld<span style='color:#FFA500'>|</span>et<span style='color:#FFA500'>|</span> vn<span style='color:#FFA500'>|</span>s<span style='color:#FFA500'>|</span> wie<span style='color:#FFA500'>|</span> das<span style='color:#FFA500'>|</span> sich<span style='color:#FFA500'>|</span> die<span style='color:#FFA500'>|</span> Ku<span style='color:#FFA500'>|</span>ens<span style='color:#FFA500'>|</span>tl<span style='color:#FFA500'>|</span>er<span style='color:#FFA500'>|</span> vn<span style='color:#FFA500'>|</span>d<span style='color:#FFA500'>|</span> Stud<span style='color:#FFA500'>|</span>ios<span style='color:#FFA500'>|</span>i<span style='color:#FFA500'>|</span> gegen<span style='color:#FFA500'>|</span> j<span style='color:#FFA500'>|</span>hrer<span style='color:#FFA500'>|</span> Ko<span style='color:#FFA500'>|</span>eni<span style='color:#FFA500'>|</span>g<span style='color:#FFA500'>|</span>.<span style='color:#FFA500'>|</span> Majest<span style='color:#FFA500'>|</span>.<span style='color:#FFA500'>|</span> erb<span style='color:#FFA500'>|</span>otten<span style='color:#FFA500'>|</span>/<span style='color:#FFA500'>|</span> deren<span style='color:#FFA500'>|</span> zu<span style='color:#FFA500'>|</span> ehr<span style='color:#FFA500'>|</span>en<span style='color:#FFA500'>|</span>/<span style='color:#FFA500'>|</span> vn<span style='color:#FFA500'>|</span>d<span style='color:#FFA500'>|</span> gefallen<span style='color:#FFA500'>|</span> vor<span style='color:#FFA500'>|</span> der<span style='color:#FFA500'>|</span>o<span style='color:#FFA500'>|</span> abzu<span style='color:#FFA500'>|</span>g<span style='color:#FFA500'>|</span>/<span style='color:#FFA500'>|</span> ein<span style='color:#FFA500'>|</span> fro<span style='color:#FFA500'>|</span>eli<span style='color:#FFA500'>|</span>che<span style='color:#FFA500'>|</span> Com<span style='color:#FFA500'>|</span>œ<span style='color:#FFA500'>|</span>di<span style='color:#FFA500'>|</span>am<span style='color:#FFA500'>|</span> zu<span style='color:#FFA500'>|</span> ag<span style='color:#FFA500'>|</span>ieren<span style='color:#FFA500'>|</span>/<span style='color:#FFA500'>|</span> wol<span style='color:#FFA500'>|</span>ten<span style='color:#FFA500'>|</span> nu<span style='color:#FFA500'>|</span>hn<span style='color:#FFA500'>|</span> wir<span style='color:#FFA500'>|</span> derselben<span style='color:#FFA500'>|</span> auch<span style='color:#FFA500'>|</span> bey<span style='color:#FFA500'>|</span>woh<span style='color:#FFA500'>|</span>nen<span style='color:#FFA500'>|</span>/<span style='color:#FFA500'>|</span> vn<span style='color:#FFA500'>|</span>d<span style='color:#FFA500'>|</span> Ko<span style='color:#FFA500'>|</span>eni<span style='color:#FFA500'>|</span>g<span style='color:#FFA500'>|</span>.<span style='color:#FFA500'>|</span> Ma<span style='color:#FFA500'>|</span>.<span style='color:#FFA500'>|</span> auff<span style='color:#FFA500'>|</span> der<span style='color:#FFA500'>|</span> Sonn<span style='color:#FFA500'>|</span>en<span style='color:#FFA500'>|</span> Hau<span style='color:#FFA500'>|</span>ß<span style='color:#FFA500'>|</span> begle<span style='color:#FFA500'>|</span>iten<span style='color:#FFA500'>|</span>/<span style='color:#FFA500'>|</span> daß<span style='color:#FFA500'>|</span> were<span style='color:#FFA500'>|</span> der<span style='color:#FFA500'>|</span>o<span style='color:#FFA500'>|</span> Lieb<span style='color:#FFA500'>|</span>/<span style='color:#FFA500'>|</span> vn<span style='color:#FFA500'>|</span>d<span style='color:#FFA500'>|</span> wol<span style='color:#FFA500'>|</span>te<span style='color:#FFA500'>|</span> solches<span style='color:#FFA500'>|</span> in<span style='color:#FFA500'>|</span> allen<span style='color:#FFA500'>|</span> gn<span style='color:#FFA500'>|</span>aden<span style='color:#FFA500'>|</span> erkennen<span style='color:#FFA500'>|</span>:<span style='color:#FFA500'>|</span></td>\n",
       "      <td>Nach<span style='color:#FFA500'>|</span> et<span style='color:#FFA500'>|</span>lichen<span style='color:#FFA500'>|</span> T<span style='color:#FFA500'>|</span>än<span style='color:#FFA500'>|</span>zen<span style='color:#FFA500'>|</span> kam<span style='color:#FFA500'>|</span> uns<span style='color:#FFA500'>|</span>er<span style='color:#FFA500'>|</span> Präsident<span style='color:#FFA500'>|</span>in<span style='color:#FFA500'>|</span> wider<span style='color:#FFA500'>|</span> daher<span style='color:#FFA500'>|</span> /<span style='color:#FFA500'>|</span> und<span style='color:#FFA500'>|</span> vermeld<span style='color:#FFA500'>|</span>et<span style='color:#FFA500'>|</span> uns<span style='color:#FFA500'>|</span> wie<span style='color:#FFA500'>|</span> das<span style='color:#FFA500'>|</span> sich<span style='color:#FFA500'>|</span> die<span style='color:#FFA500'>|</span> Künstler<span style='color:#FFA500'>|</span> und<span style='color:#FFA500'>|</span> Studios<span style='color:#FFA500'>|</span>i<span style='color:#FFA500'>|</span> gegen<span style='color:#FFA500'>|</span> ihrer<span style='color:#FFA500'>|</span> König<span style='color:#FFA500'>|</span>.<span style='color:#FFA500'>|</span> Maj<span style='color:#FFA500'>|</span>est<span style='color:#FFA500'>|</span>.<span style='color:#FFA500'>|</span> er<span style='color:#FFA500'>|</span>bot<span style='color:#FFA500'>|</span>en<span style='color:#FFA500'>|</span> /<span style='color:#FFA500'>|</span> deren<span style='color:#FFA500'>|</span> zu<span style='color:#FFA500'>|</span> ehr<span style='color:#FFA500'>|</span>en<span style='color:#FFA500'>|</span> /<span style='color:#FFA500'>|</span> und<span style='color:#FFA500'>|</span> ge<span style='color:#FFA500'>|</span>fallen<span style='color:#FFA500'>|</span> vor<span style='color:#FFA500'>|</span> deren<span style='color:#FFA500'>|</span> Ab<span style='color:#FFA500'>|</span>zug<span style='color:#FFA500'>|</span> /<span style='color:#FFA500'>|</span> ein<span style='color:#FFA500'>|</span> fr<span style='color:#FFA500'>|</span>ö<span style='color:#FFA500'>|</span>hlich<span style='color:#FFA500'>|</span>e<span style='color:#FFA500'>|</span> Como<span style='color:#FFA500'>|</span>edia<span style='color:#FFA500'>|</span>m<span style='color:#FFA500'>|</span> zu<span style='color:#FFA500'>|</span> ag<span style='color:#FFA500'>|</span>ieren<span style='color:#FFA500'>|</span> /<span style='color:#FFA500'>|</span> wollten<span style='color:#FFA500'>|</span> nun<span style='color:#FFA500'>|</span> wir<span style='color:#FFA500'>|</span> derselben<span style='color:#FFA500'>|</span> auch<span style='color:#FFA500'>|</span> bei<span style='color:#FFA500'>|</span>wo<span style='color:#FFA500'>|</span>hnen<span style='color:#FFA500'>|</span> /<span style='color:#FFA500'>|</span> und<span style='color:#FFA500'>|</span> König<span style='color:#FFA500'>|</span>.<span style='color:#FFA500'>|</span> Ma<span style='color:#FFA500'>|</span>.<span style='color:#FFA500'>|</span> auf<span style='color:#FFA500'>|</span> der<span style='color:#FFA500'>|</span> Sonne<span style='color:#FFA500'>|</span>n<span style='color:#FFA500'>|</span> Haus<span style='color:#FFA500'>|</span> be<span style='color:#FFA500'>|</span>gle<span style='color:#FFA500'>|</span>iten<span style='color:#FFA500'>|</span> /<span style='color:#FFA500'>|</span> daß<span style='color:#FFA500'>|</span> wäre<span style='color:#FFA500'>|</span> deren<span style='color:#FFA500'>|</span> Liebe<span style='color:#FFA500'>|</span> /<span style='color:#FFA500'>|</span> und<span style='color:#FFA500'>|</span> wollte<span style='color:#FFA500'>|</span> solche<span style='color:#FFA500'>|</span>s<span style='color:#FFA500'>|</span> in<span style='color:#FFA500'>|</span> allen<span style='color:#FFA500'>|</span> G<span style='color:#FFA500'>|</span>naden<span style='color:#FFA500'>|</span> erkennen<span style='color:#FFA500'>|</span> :<span style='color:#FFA500'>|</span></td>\n",
       "    </tr>\n",
       "    <tr>\n",
       "      <th>3</th>\n",
       "      <td>Ich<span style='color:#FFA500'>|</span> bin<span style='color:#FFA500'>|</span> wie<span style='color:#FFA500'>|</span> Stu<span style='color:#FFA500'>|</span>m<span style='color:#FFA500'>|</span> und<span style='color:#FFA500'>|</span> Tau<span style='color:#FFA500'>|</span>b<span style='color:#FFA500'>|</span> dab<span style='color:#FFA500'>|</span>e<span style='color:#FFA500'>|</span>y<span style='color:#FFA500'>|</span>/<span style='color:#FFA500'>|</span> bege<span style='color:#FFA500'>|</span>hr<span style='color:#FFA500'>|</span>’<span style='color:#FFA500'>|</span> auch<span style='color:#FFA500'>|</span> nicht<span style='color:#FFA500'>|</span> ein<span style='color:#FFA500'>|</span> Wort<span style='color:#FFA500'>|</span> zus<span style='color:#FFA500'>|</span>agen<span style='color:#FFA500'>|</span>:<span style='color:#FFA500'>|</span> wil<span style='color:#FFA500'>|</span> mit<span style='color:#FFA500'>|</span> ged<span style='color:#FFA500'>|</span>ult<span style='color:#FFA500'>|</span> und<span style='color:#FFA500'>|</span> oh<span style='color:#FFA500'>|</span>n<span style='color:#FFA500'>|</span>’<span style='color:#FFA500'>|</span> gesch<span style='color:#FFA500'>|</span>rey<span style='color:#FFA500'>|</span>/<span style='color:#FFA500'>|</span> Ihr<span style='color:#FFA500'>|</span> sch<span style='color:#FFA500'>|</span>arf<span style='color:#FFA500'>|</span>fe<span style='color:#FFA500'>|</span>s<span style='color:#FFA500'>|</span> la<span style='color:#FFA500'>|</span>ester<span style='color:#FFA500'>|</span>-<span style='color:#FFA500'>|</span>Mau<span style='color:#FFA500'>|</span>l<span style='color:#FFA500'>|</span> vertra<span style='color:#FFA500'>|</span>gen<span style='color:#FFA500'>|</span>.<span style='color:#FFA500'>|</span></td>\n",
       "      <td>Ich<span style='color:#FFA500'>|</span> bin<span style='color:#FFA500'>|</span> wie<span style='color:#FFA500'>|</span> St<span style='color:#FFA500'>|</span>umm<span style='color:#FFA500'>|</span> und<span style='color:#FFA500'>|</span> Tau<span style='color:#FFA500'>|</span>b<span style='color:#FFA500'>|</span> dabei<span style='color:#FFA500'>|</span> /<span style='color:#FFA500'>|</span> be<span style='color:#FFA500'>|</span>ge<span style='color:#FFA500'>|</span>hre<span style='color:#FFA500'>|</span> auch<span style='color:#FFA500'>|</span> nicht<span style='color:#FFA500'>|</span> ein<span style='color:#FFA500'>|</span> Wort<span style='color:#FFA500'>|</span> zu<span style='color:#FFA500'>|</span>sa<span style='color:#FFA500'>|</span>gen<span style='color:#FFA500'>|</span> :<span style='color:#FFA500'>|</span> will<span style='color:#FFA500'>|</span> mit<span style='color:#FFA500'>|</span> G<span style='color:#FFA500'>|</span>edu<span style='color:#FFA500'>|</span>ld<span style='color:#FFA500'>|</span> und<span style='color:#FFA500'>|</span> ohne<span style='color:#FFA500'>|</span>'<span style='color:#FFA500'>|</span>G<span style='color:#FFA500'>|</span>esch<span style='color:#FFA500'>|</span>rei<span style='color:#FFA500'>|</span> /<span style='color:#FFA500'>|</span> Ihr<span style='color:#FFA500'>|</span> s<span style='color:#FFA500'>|</span>char<span style='color:#FFA500'>|</span>fes<span style='color:#FFA500'>|</span> Läst<span style='color:#FFA500'>|</span>er<span style='color:#FFA500'>|</span> -<span style='color:#FFA500'>|</span> Mau<span style='color:#FFA500'>|</span>l<span style='color:#FFA500'>|</span> vert<span style='color:#FFA500'>|</span>ragen<span style='color:#FFA500'>|</span>.<span style='color:#FFA500'>|</span></td>\n",
       "    </tr>\n",
       "    <tr>\n",
       "      <th>4</th>\n",
       "      <td>Es<span style='color:#FFA500'>|</span> ist<span style='color:#FFA500'>|</span> mir<span style='color:#FFA500'>|</span> von<span style='color:#FFA500'>|</span> Hert<span style='color:#FFA500'>|</span>zen<span style='color:#FFA500'>|</span> lieb<span style='color:#FFA500'>|</span>/<span style='color:#FFA500'>|</span> sprach<span style='color:#FFA500'>|</span> Kli<span style='color:#FFA500'>|</span>ng<span style='color:#FFA500'>|</span>en<span style='color:#FFA500'>|</span>feld<span style='color:#FFA500'>|</span>/<span style='color:#FFA500'>|</span> daß<span style='color:#FFA500'>|</span> ich<span style='color:#FFA500'>|</span> das<span style='color:#FFA500'>|</span> Gl<span style='color:#FFA500'>|</span>ue<span style='color:#FFA500'>|</span>ck<span style='color:#FFA500'>|</span> habe<span style='color:#FFA500'>|</span>/<span style='color:#FFA500'>|</span> dieses<span style='color:#FFA500'>|</span> hoch<span style='color:#FFA500'>|</span>gel<span style='color:#FFA500'>|</span>eh<span style='color:#FFA500'>|</span>rt<span style='color:#FFA500'>|</span>e<span style='color:#FFA500'>|</span> Muse<span style='color:#FFA500'>|</span>n<span style='color:#FFA500'>|</span>-<span style='color:#FFA500'>|</span>Kind<span style='color:#FFA500'>|</span> zu<span style='color:#FFA500'>|</span> sehen<span style='color:#FFA500'>|</span>.<span style='color:#FFA500'>|</span></td>\n",
       "      <td>Es<span style='color:#FFA500'>|</span> ist<span style='color:#FFA500'>|</span> mir<span style='color:#FFA500'>|</span> von<span style='color:#FFA500'>|</span> Herz<span style='color:#FFA500'>|</span>en<span style='color:#FFA500'>|</span> lie<span style='color:#FFA500'>|</span>b<span style='color:#FFA500'>|</span> /<span style='color:#FFA500'>|</span> sprach<span style='color:#FFA500'>|</span> K<span style='color:#FFA500'>|</span>lingen<span style='color:#FFA500'>|</span>feld<span style='color:#FFA500'>|</span> /<span style='color:#FFA500'>|</span> daß<span style='color:#FFA500'>|</span> ich<span style='color:#FFA500'>|</span> das<span style='color:#FFA500'>|</span> Glück<span style='color:#FFA500'>|</span> habe<span style='color:#FFA500'>|</span> /<span style='color:#FFA500'>|</span> dieses<span style='color:#FFA500'>|</span> hoch<span style='color:#FFA500'>|</span>gel<span style='color:#FFA500'>|</span>ehrt<span style='color:#FFA500'>|</span>e<span style='color:#FFA500'>|</span> Muse<span style='color:#FFA500'>|</span>n<span style='color:#FFA500'>|</span> -<span style='color:#FFA500'>|</span> Kind<span style='color:#FFA500'>|</span> zu<span style='color:#FFA500'>|</span> sehen<span style='color:#FFA500'>|</span>.<span style='color:#FFA500'>|</span></td>\n",
       "    </tr>\n",
       "    <tr>\n",
       "      <th>5</th>\n",
       "      <td>mel<span style='color:#FFA500'>|</span>ck<span style='color:#FFA500'>|</span></td>\n",
       "      <td>me<span style='color:#FFA500'>|</span>lc<span style='color:#FFA500'>|</span>k<span style='color:#FFA500'>|</span></td>\n",
       "    </tr>\n",
       "    <tr>\n",
       "      <th>6</th>\n",
       "      <td>Jn<span style='color:#FFA500'>|</span> Summa<span style='color:#FFA500'>|</span> sie<span style='color:#FFA500'>|</span> Rac<span style='color:#FFA500'>|</span>ket<span style='color:#FFA500'>|</span>lein<span style='color:#FFA500'>|</span> lies<span style='color:#FFA500'>|</span>sn<span style='color:#FFA500'>|</span>/<span style='color:#FFA500'>|</span> Au<span style='color:#FFA500'>|</span>ß<span style='color:#FFA500'>|</span> j<span style='color:#FFA500'>|</span>hren<span style='color:#FFA500'>|</span> Ha<span style='color:#FFA500'>|</span>enden<span style='color:#FFA500'>|</span> aus<span style='color:#FFA500'>|</span>ser<span style='color:#FFA500'>|</span> spr<span style='color:#FFA500'>|</span>ies<span style='color:#FFA500'>|</span>sn<span style='color:#FFA500'>|</span>/<span style='color:#FFA500'>|</span> Eins<span style='color:#FFA500'>|</span> v<span style='color:#FFA500'>|</span>bers<span style='color:#FFA500'>|</span> ander<span style='color:#FFA500'>|</span>/<span style='color:#FFA500'>|</span> daß<span style='color:#FFA500'>|</span> mich<span style='color:#FFA500'>|</span> wu<span style='color:#FFA500'>|</span>nder<span style='color:#FFA500'>|</span>t<span style='color:#FFA500'>|</span>/<span style='color:#FFA500'>|</span> Dann<span style='color:#FFA500'>|</span> es<span style='color:#FFA500'>|</span> off<span style='color:#FFA500'>|</span>t<span style='color:#FFA500'>|</span> flo<span style='color:#FFA500'>|</span>gen<span style='color:#FFA500'>|</span> et<span style='color:#FFA500'>|</span>lich<span style='color:#FFA500'>|</span> hundert<span style='color:#FFA500'>|</span>/<span style='color:#FFA500'>|</span> Ja<span style='color:#FFA500'>|</span> taus<span style='color:#FFA500'>|</span>ent<span style='color:#FFA500'>|</span> waren<span style='color:#FFA500'>|</span> au<span style='color:#FFA500'>|</span>ß<span style='color:#FFA500'>|</span> gest<span style='color:#FFA500'>|</span>ob<span style='color:#FFA500'>|</span>n<span style='color:#FFA500'>|</span>/<span style='color:#FFA500'>|</span> Das<span style='color:#FFA500'>|</span> Feu<span style='color:#FFA500'>|</span>r<span style='color:#FFA500'>|</span>wer<span style='color:#FFA500'>|</span>ck<span style='color:#FFA500'>|</span> kan<span style='color:#FFA500'>|</span> man<span style='color:#FFA500'>|</span> nicht<span style='color:#FFA500'>|</span> gn<span style='color:#FFA500'>|</span>ug<span style='color:#FFA500'>|</span> lo<span style='color:#FFA500'>|</span>bn<span style='color:#FFA500'>|</span>/<span style='color:#FFA500'>|</span> Dann<span style='color:#FFA500'>|</span> es<span style='color:#FFA500'>|</span> v<span style='color:#FFA500'>|</span>ber<span style='color:#FFA500'>|</span> die<span style='color:#FFA500'>|</span> masse<span style='color:#FFA500'>|</span>n<span style='color:#FFA500'>|</span> war<span style='color:#FFA500'>|</span>/<span style='color:#FFA500'>|</span> Zi<span style='color:#FFA500'>|</span>erl<span style='color:#FFA500'>|</span>ich<span style='color:#FFA500'>|</span> vn<span style='color:#FFA500'>|</span>d<span style='color:#FFA500'>|</span> wu<span style='color:#FFA500'>|</span>nder<span style='color:#FFA500'>|</span>bar<span style='color:#FFA500'>|</span>lich<span style='color:#FFA500'>|</span> gar<span style='color:#FFA500'>|</span>/<span style='color:#FFA500'>|</span> Vn<span style='color:#FFA500'>|</span>d<span style='color:#FFA500'>|</span> glau<span style='color:#FFA500'>|</span>b<span style='color:#FFA500'>|</span> nicht<span style='color:#FFA500'>|</span> daß<span style='color:#FFA500'>|</span> in<span style='color:#FFA500'>|</span> Wu<span style='color:#FFA500'>|</span>erte<span style='color:#FFA500'>|</span>nb<span style='color:#FFA500'>|</span>erg<span style='color:#FFA500'>|</span>/<span style='color:#FFA500'>|</span> Ein<span style='color:#FFA500'>|</span> mal<span style='color:#FFA500'>|</span> se<span style='color:#FFA500'>|</span>y<span style='color:#FFA500'>|</span> g<span style='color:#FFA500'>|</span>wes<span style='color:#FFA500'>|</span>n<span style='color:#FFA500'>|</span> ein<span style='color:#FFA500'>|</span> sol<span style='color:#FFA500'>|</span>ch<span style='color:#FFA500'>|</span> Feu<span style='color:#FFA500'>|</span>r<span style='color:#FFA500'>|</span>wer<span style='color:#FFA500'>|</span>ck<span style='color:#FFA500'>|</span>.<span style='color:#FFA500'>|</span></td>\n",
       "      <td>In<span style='color:#FFA500'>|</span> Su<span style='color:#FFA500'>|</span>mma<span style='color:#FFA500'>|</span> sie<span style='color:#FFA500'>|</span> Ra<span style='color:#FFA500'>|</span>ket<span style='color:#FFA500'>|</span>lein<span style='color:#FFA500'>|</span> ließen<span style='color:#FFA500'>|</span> /<span style='color:#FFA500'>|</span> Aus<span style='color:#FFA500'>|</span> ihren<span style='color:#FFA500'>|</span> Hän<span style='color:#FFA500'>|</span>den<span style='color:#FFA500'>|</span> außer<span style='color:#FFA500'>|</span> sp<span style='color:#FFA500'>|</span>rie<span style='color:#FFA500'>|</span>ßen<span style='color:#FFA500'>|</span> /<span style='color:#FFA500'>|</span> Ein<span style='color:#FFA500'>|</span>s<span style='color:#FFA500'>|</span> über<span style='color:#FFA500'>|</span>s<span style='color:#FFA500'>|</span> ander<span style='color:#FFA500'>|</span> /<span style='color:#FFA500'>|</span> daß<span style='color:#FFA500'>|</span> mich<span style='color:#FFA500'>|</span> w<span style='color:#FFA500'>|</span>unde<span style='color:#FFA500'>|</span>rt<span style='color:#FFA500'>|</span> /<span style='color:#FFA500'>|</span> Dann<span style='color:#FFA500'>|</span> es<span style='color:#FFA500'>|</span> oft<span style='color:#FFA500'>|</span> fl<span style='color:#FFA500'>|</span>ogen<span style='color:#FFA500'>|</span> et<span style='color:#FFA500'>|</span>lich<span style='color:#FFA500'>|</span> hundert<span style='color:#FFA500'>|</span> /<span style='color:#FFA500'>|</span> Ja<span style='color:#FFA500'>|</span> tau<span style='color:#FFA500'>|</span>send<span style='color:#FFA500'>|</span> waren<span style='color:#FFA500'>|</span> aus<span style='color:#FFA500'>|</span> ge<span style='color:#FFA500'>|</span>sto<span style='color:#FFA500'>|</span>ben<span style='color:#FFA500'>|</span> /<span style='color:#FFA500'>|</span> Das<span style='color:#FFA500'>|</span> Feuer<span style='color:#FFA500'>|</span>werk<span style='color:#FFA500'>|</span> kann<span style='color:#FFA500'>|</span> man<span style='color:#FFA500'>|</span> nicht<span style='color:#FFA500'>|</span> gen<span style='color:#FFA500'>|</span>ug<span style='color:#FFA500'>|</span> lo<span style='color:#FFA500'>|</span>ben<span style='color:#FFA500'>|</span> /<span style='color:#FFA500'>|</span> Dann<span style='color:#FFA500'>|</span> er<span style='color:#FFA500'>|</span> die<span style='color:#FFA500'>|</span> ma<span style='color:#FFA500'>|</span>ßen<span style='color:#FFA500'>|</span> war<span style='color:#FFA500'>|</span> /<span style='color:#FFA500'>|</span> Zie<span style='color:#FFA500'>|</span>rli<span style='color:#FFA500'>|</span>ch<span style='color:#FFA500'>|</span> und<span style='color:#FFA500'>|</span> w<span style='color:#FFA500'>|</span>unde<span style='color:#FFA500'>|</span>rbar<span style='color:#FFA500'>|</span>lich<span style='color:#FFA500'>|</span> gar<span style='color:#FFA500'>|</span> /<span style='color:#FFA500'>|</span> Und<span style='color:#FFA500'>|</span> g<span style='color:#FFA500'>|</span>laub<span style='color:#FFA500'>|</span>e<span style='color:#FFA500'>|</span> nicht<span style='color:#FFA500'>|</span> daß<span style='color:#FFA500'>|</span> in<span style='color:#FFA500'>|</span> Württemberg<span style='color:#FFA500'>|</span> /<span style='color:#FFA500'>|</span> Ein<span style='color:#FFA500'>|</span> Mal<span style='color:#FFA500'>|</span> sei<span style='color:#FFA500'>|</span> ge<span style='color:#FFA500'>|</span>wusst<span style='color:#FFA500'>|</span> ein<span style='color:#FFA500'>|</span> sol<span style='color:#FFA500'>|</span>ch<span style='color:#FFA500'>|</span> Feuer<span style='color:#FFA500'>|</span>werk<span style='color:#FFA500'>|</span>.<span style='color:#FFA500'>|</span></td>\n",
       "    </tr>\n",
       "    <tr>\n",
       "      <th>7</th>\n",
       "      <td>Pl<span style='color:#FFA500'>|</span>in<span style='color:#FFA500'>|</span>.<span style='color:#FFA500'>|</span> l<span style='color:#FFA500'>|</span>.<span style='color:#FFA500'>|</span> 2<span style='color:#FFA500'>|</span>.<span style='color:#FFA500'>|</span> c<span style='color:#FFA500'>|</span>.<span style='color:#FFA500'>|</span> 5<span style='color:#FFA500'>|</span>.<span style='color:#FFA500'>|</span> daher<span style='color:#FFA500'>|</span> ist<span style='color:#FFA500'>|</span> get<span style='color:#FFA500'>|</span>ichtet<span style='color:#FFA500'>|</span>;<span style='color:#FFA500'>|</span> daß<span style='color:#FFA500'>|</span> Prom<span style='color:#FFA500'>|</span>eth<span style='color:#FFA500'>|</span>eus<span style='color:#FFA500'>|</span> seine<span style='color:#FFA500'>|</span> Fac<span style='color:#FFA500'>|</span>kel<span style='color:#FFA500'>|</span> an<span style='color:#FFA500'>|</span> der<span style='color:#FFA500'>|</span> Sonn<span style='color:#FFA500'>|</span>e<span style='color:#FFA500'>|</span> ange<span style='color:#FFA500'>|</span>zu<span style='color:#FFA500'>|</span>endet<span style='color:#FFA500'>|</span>/<span style='color:#FFA500'>|</span> und<span style='color:#FFA500'>|</span> das<span style='color:#FFA500'>|</span> Feuer<span style='color:#FFA500'>|</span> auf<span style='color:#FFA500'>|</span> die<span style='color:#FFA500'>|</span> Erde<span style='color:#FFA500'>|</span> bra<span style='color:#FFA500'>|</span>cht<span style='color:#FFA500'>|</span> habe<span style='color:#FFA500'>|</span>.<span style='color:#FFA500'>|</span></td>\n",
       "      <td>Pl<span style='color:#FFA500'>|</span>in<span style='color:#FFA500'>|</span>.<span style='color:#FFA500'>|</span> l<span style='color:#FFA500'>|</span>.<span style='color:#FFA500'>|</span> 2<span style='color:#FFA500'>|</span>.<span style='color:#FFA500'>|</span> c<span style='color:#FFA500'>|</span>.<span style='color:#FFA500'>|</span> 5<span style='color:#FFA500'>|</span>.<span style='color:#FFA500'>|</span> daher<span style='color:#FFA500'>|</span> ist<span style='color:#FFA500'>|</span> get<span style='color:#FFA500'>|</span>ichte<span style='color:#FFA500'>|</span>t<span style='color:#FFA500'>|</span> ;<span style='color:#FFA500'>|</span> daß<span style='color:#FFA500'>|</span> Prometheus<span style='color:#FFA500'>|</span> seine<span style='color:#FFA500'>|</span> Fa<span style='color:#FFA500'>|</span>ckel<span style='color:#FFA500'>|</span> an<span style='color:#FFA500'>|</span> der<span style='color:#FFA500'>|</span> Sonne<span style='color:#FFA500'>|</span> ang<span style='color:#FFA500'>|</span>ez<span style='color:#FFA500'>|</span>ünde<span style='color:#FFA500'>|</span>t<span style='color:#FFA500'>|</span> /<span style='color:#FFA500'>|</span> und<span style='color:#FFA500'>|</span> das<span style='color:#FFA500'>|</span> Feuer<span style='color:#FFA500'>|</span> auf<span style='color:#FFA500'>|</span> die<span style='color:#FFA500'>|</span> Erde<span style='color:#FFA500'>|</span> brachte<span style='color:#FFA500'>|</span> habe<span style='color:#FFA500'>|</span>.<span style='color:#FFA500'>|</span></td>\n",
       "    </tr>\n",
       "    <tr>\n",
       "      <th>8</th>\n",
       "      <td>Ein<span style='color:#FFA500'>|</span> Un<span style='color:#FFA500'>|</span>weise<span style='color:#FFA500'>|</span>r<span style='color:#FFA500'>|</span> ist<span style='color:#FFA500'>|</span> auch<span style='color:#FFA500'>|</span> bey<span style='color:#FFA500'>|</span> Schmer<span style='color:#FFA500'>|</span>tz<span style='color:#FFA500'>|</span>haf<span style='color:#FFA500'>|</span>ften<span style='color:#FFA500'>|</span> Kra<span style='color:#FFA500'>|</span>nc<span style='color:#FFA500'>|</span>k<span style='color:#FFA500'>|</span>heiten<span style='color:#FFA500'>|</span> ele<span style='color:#FFA500'>|</span>nder<span style='color:#FFA500'>|</span> daran<span style='color:#FFA500'>|</span> als<span style='color:#FFA500'>|</span> ein<span style='color:#FFA500'>|</span> wel<span style='color:#FFA500'>|</span>ser<span style='color:#FFA500'>|</span> Mann<span style='color:#FFA500'>|</span>.<span style='color:#FFA500'>|</span> n<span style='color:#FFA500'>|</span>.<span style='color:#FFA500'>|</span> 123<span style='color:#FFA500'>|</span>.<span style='color:#FFA500'>|</span> Weiß<span style='color:#FFA500'>|</span>heit<span style='color:#FFA500'>|</span> und<span style='color:#FFA500'>|</span> Tu<span style='color:#FFA500'>|</span>gend<span style='color:#FFA500'>|</span> sind<span style='color:#FFA500'>|</span> wesent<span style='color:#FFA500'>|</span>liche<span style='color:#FFA500'>|</span> Stu<span style='color:#FFA500'>|</span>ec<span style='color:#FFA500'>|</span>ke<span style='color:#FFA500'>|</span> der<span style='color:#FFA500'>|</span> Gem<span style='color:#FFA500'>|</span>uet<span style='color:#FFA500'>|</span>hs<span style='color:#FFA500'>|</span>-<span style='color:#FFA500'>|</span>Ruhe<span style='color:#FFA500'>|</span> n<span style='color:#FFA500'>|</span>.<span style='color:#FFA500'>|</span> 124<span style='color:#FFA500'>|</span>.<span style='color:#FFA500'>|</span> und<span style='color:#FFA500'>|</span> der<span style='color:#FFA500'>|</span>er<span style='color:#FFA500'>|</span> Mangel<span style='color:#FFA500'>|</span> mache<span style='color:#FFA500'>|</span>t<span style='color:#FFA500'>|</span> den<span style='color:#FFA500'>|</span> Menschen<span style='color:#FFA500'>|</span> ho<span style='color:#FFA500'>|</span>ech<span style='color:#FFA500'>|</span>st<span style='color:#FFA500'>|</span> ele<span style='color:#FFA500'>|</span>nde<span style='color:#FFA500'>|</span>.<span style='color:#FFA500'>|</span> n<span style='color:#FFA500'>|</span>.<span style='color:#FFA500'>|</span> 125<span style='color:#FFA500'>|</span>.<span style='color:#FFA500'>|</span> welches<span style='color:#FFA500'>|</span> man<span style='color:#FFA500'>|</span> aber<span style='color:#FFA500'>|</span> nicht<span style='color:#FFA500'>|</span> von<span style='color:#FFA500'>|</span> der<span style='color:#FFA500'>|</span> Sche<span style='color:#FFA500'>|</span>in<span style='color:#FFA500'>|</span>-<span style='color:#FFA500'>|</span>Weiß<span style='color:#FFA500'>|</span>heit<span style='color:#FFA500'>|</span> und<span style='color:#FFA500'>|</span> von<span style='color:#FFA500'>|</span> der<span style='color:#FFA500'>|</span> Sche<span style='color:#FFA500'>|</span>in<span style='color:#FFA500'>|</span> Tu<span style='color:#FFA500'>|</span>gend<span style='color:#FFA500'>|</span> verste<span style='color:#FFA500'>|</span>hen<span style='color:#FFA500'>|</span> muß<span style='color:#FFA500'>|</span>.<span style='color:#FFA500'>|</span> n<span style='color:#FFA500'>|</span>.<span style='color:#FFA500'>|</span> 126<span style='color:#FFA500'>|</span>.<span style='color:#FFA500'>|</span> 127<span style='color:#FFA500'>|</span>.<span style='color:#FFA500'>|</span> War<span style='color:#FFA500'>|</span>umb<span style='color:#FFA500'>|</span> man<span style='color:#FFA500'>|</span> der<span style='color:#FFA500'>|</span> Wohl<span style='color:#FFA500'>|</span>lust<span style='color:#FFA500'>|</span> des<span style='color:#FFA500'>|</span> Leib<span style='color:#FFA500'>|</span>es<span style='color:#FFA500'>|</span> nicht<span style='color:#FFA500'>|</span> erw<span style='color:#FFA500'>|</span>eh<span style='color:#FFA500'>|</span>net<span style='color:#FFA500'>|</span> n<span style='color:#FFA500'>|</span>.<span style='color:#FFA500'>|</span> 128<span style='color:#FFA500'>|</span>.<span style='color:#FFA500'>|</span> 129<span style='color:#FFA500'>|</span>.<span style='color:#FFA500'>|</span></td>\n",
       "      <td>Ein<span style='color:#FFA500'>|</span> Un<span style='color:#FFA500'>|</span>weise<span style='color:#FFA500'>|</span>r<span style='color:#FFA500'>|</span> ist<span style='color:#FFA500'>|</span> auch<span style='color:#FFA500'>|</span> bei<span style='color:#FFA500'>|</span> Sc<span style='color:#FFA500'>|</span>hme<span style='color:#FFA500'>|</span>rz<span style='color:#FFA500'>|</span>haften<span style='color:#FFA500'>|</span> Krankheit<span style='color:#FFA500'>|</span>en<span style='color:#FFA500'>|</span> ele<span style='color:#FFA500'>|</span>nder<span style='color:#FFA500'>|</span> daran<span style='color:#FFA500'>|</span> als<span style='color:#FFA500'>|</span> ein<span style='color:#FFA500'>|</span> wel<span style='color:#FFA500'>|</span>ser<span style='color:#FFA500'>|</span> Mann<span style='color:#FFA500'>|</span>.<span style='color:#FFA500'>|</span> n<span style='color:#FFA500'>|</span>.<span style='color:#FFA500'>|</span> 123<span style='color:#FFA500'>|</span>.<span style='color:#FFA500'>|</span> Wei<span style='color:#FFA500'>|</span>she<span style='color:#FFA500'>|</span>it<span style='color:#FFA500'>|</span> und<span style='color:#FFA500'>|</span> Tu<span style='color:#FFA500'>|</span>gend<span style='color:#FFA500'>|</span> sind<span style='color:#FFA500'>|</span> wesentlich<span style='color:#FFA500'>|</span>e<span style='color:#FFA500'>|</span> Stücke<span style='color:#FFA500'>|</span> der<span style='color:#FFA500'>|</span> G<span style='color:#FFA500'>|</span>em<span style='color:#FFA500'>|</span>üt<span style='color:#FFA500'>|</span>sr<span style='color:#FFA500'>|</span>uh<span style='color:#FFA500'>|</span>e<span style='color:#FFA500'>|</span> n<span style='color:#FFA500'>|</span>.<span style='color:#FFA500'>|</span> 124<span style='color:#FFA500'>|</span>.<span style='color:#FFA500'>|</span> und<span style='color:#FFA500'>|</span> der<span style='color:#FFA500'>|</span>er<span style='color:#FFA500'>|</span> Mange<span style='color:#FFA500'>|</span>l<span style='color:#FFA500'>|</span> macht<span style='color:#FFA500'>|</span> den<span style='color:#FFA500'>|</span> Menschen<span style='color:#FFA500'>|</span> h<span style='color:#FFA500'>|</span>ö<span style='color:#FFA500'>|</span>chs<span style='color:#FFA500'>|</span>t<span style='color:#FFA500'>|</span> ele<span style='color:#FFA500'>|</span>nde<span style='color:#FFA500'>|</span>.<span style='color:#FFA500'>|</span> ann<span style='color:#FFA500'>|</span>.<span style='color:#FFA500'>|</span> 125<span style='color:#FFA500'>|</span>.<span style='color:#FFA500'>|</span> welches<span style='color:#FFA500'>|</span> man<span style='color:#FFA500'>|</span> aber<span style='color:#FFA500'>|</span> nicht<span style='color:#FFA500'>|</span> von<span style='color:#FFA500'>|</span> der<span style='color:#FFA500'>|</span> Sc<span style='color:#FFA500'>|</span>hei<span style='color:#FFA500'>|</span>n<span style='color:#FFA500'>|</span> -<span style='color:#FFA500'>|</span> Weiß<span style='color:#FFA500'>|</span>heit<span style='color:#FFA500'>|</span> und<span style='color:#FFA500'>|</span> von<span style='color:#FFA500'>|</span> der<span style='color:#FFA500'>|</span> Lei<span style='color:#FFA500'>|</span>n<span style='color:#FFA500'>|</span> Tu<span style='color:#FFA500'>|</span>gend<span style='color:#FFA500'>|</span> vers<span style='color:#FFA500'>|</span>tehen<span style='color:#FFA500'>|</span> mu<span style='color:#FFA500'>|</span>ß<span style='color:#FFA500'>|</span>.<span style='color:#FFA500'>|</span> n<span style='color:#FFA500'>|</span> sehr<span style='color:#FFA500'>|</span> 126<span style='color:#FFA500'>|</span>.<span style='color:#FFA500'>|</span> 127<span style='color:#FFA500'>|</span>.<span style='color:#FFA500'>|</span> War<span style='color:#FFA500'>|</span>um<span style='color:#FFA500'>|</span> man<span style='color:#FFA500'>|</span> der<span style='color:#FFA500'>|</span> Wo<span style='color:#FFA500'>|</span>llus<span style='color:#FFA500'>|</span>t<span style='color:#FFA500'>|</span> des<span style='color:#FFA500'>|</span> Lei<span style='color:#FFA500'>|</span>bes<span style='color:#FFA500'>|</span> nicht<span style='color:#FFA500'>|</span> erwähnt<span style='color:#FFA500'>|</span> n<span style='color:#FFA500'>|</span>.<span style='color:#FFA500'>|</span> 128<span style='color:#FFA500'>|</span>.<span style='color:#FFA500'>|</span> 129<span style='color:#FFA500'>|</span>.<span style='color:#FFA500'>|</span></td>\n",
       "    </tr>\n",
       "    <tr>\n",
       "      <th>9</th>\n",
       "      <td>§<span style='color:#FFA500'>|</span>.<span style='color:#FFA500'>|</span> 13<span style='color:#FFA500'>|</span>.<span style='color:#FFA500'>|</span></td>\n",
       "      <td>§<span style='color:#FFA500'>|</span>.<span style='color:#FFA500'>|</span> 13<span style='color:#FFA500'>|</span>.<span style='color:#FFA500'>|</span></td>\n",
       "    </tr>\n",
       "  </tbody>\n",
       "</table>"
      ],
      "text/plain": [
       "<IPython.core.display.HTML object>"
      ]
     },
     "metadata": {},
     "output_type": "display_data"
    }
   ],
   "source": [
    "from IPython.core.display import HTML\n",
    "display(HTML(df1600to1699.head(N).to_html(escape=False)))"
   ]
  },
  {
   "attachments": {},
   "cell_type": "markdown",
   "metadata": {},
   "source": [
    "### 1700 to 1799"
   ]
  },
  {
   "cell_type": "code",
   "execution_count": 13,
   "metadata": {},
   "outputs": [
    {
     "ename": "NameError",
     "evalue": "name 'df1700to1799' is not defined",
     "output_type": "error",
     "traceback": [
      "\u001b[0;31m---------------------------------------------------------------------------\u001b[0m",
      "\u001b[0;31mNameError\u001b[0m                                 Traceback (most recent call last)",
      "Cell \u001b[0;32mIn[13], line 2\u001b[0m\n\u001b[1;32m      1\u001b[0m \u001b[39mfrom\u001b[39;00m \u001b[39mIPython\u001b[39;00m\u001b[39m.\u001b[39;00m\u001b[39mcore\u001b[39;00m\u001b[39m.\u001b[39;00m\u001b[39mdisplay\u001b[39;00m \u001b[39mimport\u001b[39;00m HTML\n\u001b[0;32m----> 2\u001b[0m display(HTML(df1700to1799\u001b[39m.\u001b[39mhead(N)\u001b[39m.\u001b[39mto_html(escape\u001b[39m=\u001b[39m\u001b[39mFalse\u001b[39;00m)))\n",
      "\u001b[0;31mNameError\u001b[0m: name 'df1700to1799' is not defined"
     ]
    }
   ],
   "source": [
    "from IPython.core.display import HTML\n",
    "display(HTML(df1700to1799.head(N).to_html(escape=False)))"
   ]
  },
  {
   "attachments": {},
   "cell_type": "markdown",
   "metadata": {},
   "source": [
    "### 1800 to 1899"
   ]
  },
  {
   "cell_type": "code",
   "execution_count": null,
   "metadata": {},
   "outputs": [],
   "source": [
    "from IPython.core.display import HTML\n",
    "display(HTML(df1800to1899.head(N).to_html(escape=False)))"
   ]
  },
  {
   "attachments": {},
   "cell_type": "markdown",
   "metadata": {},
   "source": [
    "---"
   ]
  },
  {
   "cell_type": "code",
   "execution_count": 23,
   "metadata": {},
   "outputs": [
    {
     "name": "stderr",
     "output_type": "stream",
     "text": [
      "/home/bracke/miniconda3/envs/gpu-venv-transnormer/lib/python3.9/site-packages/transformers/models/encoder_decoder/modeling_encoder_decoder.py:634: FutureWarning: Version v4.12.0 introduces a better way to train encoder-decoder models by computing the loss inside the encoder-decoder framework rather than in the decoder itself. You may observe training discrepancies if fine-tuning a model trained with versions anterior to 4.12.0. The decoder_input_ids are now created based on the labels, no need to pass them yourself anymore.\n",
      "  warnings.warn(DEPRECATION_WARNING, FutureWarning)\n"
     ]
    },
    {
     "name": "stdout",
     "output_type": "stream",
     "text": [
      "tensor(10.1295, device='cuda:0', grad_fn=<NllLossBackward0>)\n"
     ]
    },
    {
     "data": {
      "text/html": [
       "<table border=\"1\" class=\"dataframe\">\n",
       "  <thead>\n",
       "    <tr style=\"text-align: right;\">\n",
       "      <th></th>\n",
       "      <th>0</th>\n",
       "    </tr>\n",
       "  </thead>\n",
       "  <tbody>\n",
       "    <tr>\n",
       "      <th>0</th>\n",
       "      <td>Weilen des Menschen Lebent ist kürz seine Gedächtnis Schwag, und die Sinne zum Missverstendtnis stets geneigt (... )</td>\n",
       "    </tr>\n",
       "  </tbody>\n",
       "</table>"
      ],
      "text/plain": [
       "<IPython.core.display.HTML object>"
      ]
     },
     "metadata": {},
     "output_type": "display_data"
    }
   ],
   "source": [
    "s_orig = \"Nach etlichen Taͤntzen kam vnſer Præſidentin wider daher/ vnd vermeldet vns wie das ſich die Kuͤnſtler vnd Studioſi gegen jhrer Koͤnig. Majeſt. erbotten/ deren zu ehren/ vnd gefallen vor dero abzug/ ein froͤliche Comœdiam zu agieren/ wolten nuhn wir derſelben auch beywohnen/ vnd Koͤnig. Ma. auff der Sonnen Hauß begleiten/ daß were dero Lieb/ vnd wolte ſolches in allen gnaden erkennen:\"\n",
    "# s_orig = \"Groß-Fuͤrſten in Finland/ Hertzogen zu Schonen/ Eheſten/ Lieffland/ Carelen/ Bremen/ Vehrden/ Stettin/ Pommern/ der Caſſuben und Wenden/\"\n",
    "s_norm = \"Nach etlichen Tänzen kam unser Präsidentin wider daher/ und vermeldet uns wie das sich die Künstler und Studiosi gegen ihrer König. Majest. erboten/ deren zu ehren/ und gefallen vor deren Abzug/ ein fröhliche Comoediam zu agieren/ wollten nun wir derselben auch beiwohnen/ und König. Ma. auf der Sonnen Haus begleiten/ dass wäre deren Liebe/ und wollte solches in allen Gnaden erkennen:\" \n",
    "\n",
    "# s_orig = \"ſolen \" #* 10\n",
    "# s_norm = \"Solen \" #* 150\n",
    "s_orig = \"Weilen des menschen Lebent ist kürtz seine gedechtnüs Schwag, und die Sinne zum Misverstendtnüs stets geneiget (...)\" \n",
    "\n",
    "inputs = tokenizer_input(s_orig, padding=\"max_length\", truncation=True, max_length=256, return_tensors=\"pt\")\n",
    "outputs = tokenizer_output(s_norm, padding=\"max_length\", truncation=True, max_length=256, return_tensors=\"pt\")\n",
    "input_ids = inputs.input_ids.to(device)\n",
    "output_ids = outputs.input_ids.to(device)\n",
    "output_ids[output_ids==0] = -100 # replace padding token with -100\n",
    "attention_mask = inputs.attention_mask.to(device)\n",
    "example = {\n",
    "    \"input_ids\":input_ids,\n",
    "    \"attention_mask\":attention_mask,\n",
    "    \"labels\":output_ids\n",
    "}\n",
    "\n",
    "# Loss\n",
    "output_forward = model(**example)\n",
    "\n",
    "print(output_forward.loss)\n",
    "\n",
    "# Generation\n",
    "output_gen = model.generate(\n",
    "    input_ids, \n",
    "    attention_mask=attention_mask, \n",
    "    max_length=256,\n",
    "    no_repeat_ngram_size=3, # hier 0 zu setzen führt zu leerer Ausgabe (warum?)\n",
    "    early_stopping=True,\n",
    "    length_penalty=2.0,\n",
    "    num_beams=3,\n",
    "    )\n",
    "\n",
    "outputs_as_str = tokenizer_output.batch_decode(output_gen, skip_special_tokens=True)\n",
    "# print(outputs_as_str[0])\n",
    "\n",
    "# Display output\n",
    "from IPython.core.display import HTML\n",
    "df_example = pd.DataFrame(data=outputs_as_str)\n",
    "display(HTML(df_example.head(1).to_html(escape=False)))"
   ]
  }
 ],
 "metadata": {
  "kernelspec": {
   "display_name": "gpu-venv-transnormer",
   "language": "python",
   "name": "python3"
  },
  "language_info": {
   "codemirror_mode": {
    "name": "ipython",
    "version": 3
   },
   "file_extension": ".py",
   "mimetype": "text/x-python",
   "name": "python",
   "nbconvert_exporter": "python",
   "pygments_lexer": "ipython3",
   "version": "3.9.16"
  },
  "orig_nbformat": 4,
  "vscode": {
   "interpreter": {
    "hash": "78c4187baaf57098bb0b3703ce789bfcb46625a5d8666ee97b80d797f8c6f211"
   }
  }
 },
 "nbformat": 4,
 "nbformat_minor": 2
}
