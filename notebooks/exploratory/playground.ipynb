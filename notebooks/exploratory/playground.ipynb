{
 "cells": [
  {
   "cell_type": "code",
   "execution_count": 3,
   "metadata": {},
   "outputs": [
    {
     "name": "stdout",
     "output_type": "stream",
     "text": [
      "['/home/bracke/code/transnormer/notebooks/exploratory', '/home/bracke/miniconda3/envs/gpu-venv-transnormer/lib/python39.zip', '/home/bracke/miniconda3/envs/gpu-venv-transnormer/lib/python3.9', '/home/bracke/miniconda3/envs/gpu-venv-transnormer/lib/python3.9/lib-dynload', '', '/home/bracke/miniconda3/envs/gpu-venv-transnormer/lib/python3.9/site-packages', '/home/bracke/code/transnormer/src', '/home/bracke/code/transnormer']\n"
     ]
    }
   ],
   "source": [
    "import transnormer\n",
    "\n",
    "import sys\n",
    "print(sys.path)"
   ]
  }
 ],
 "metadata": {
  "kernelspec": {
   "display_name": "gpu-venv-transnormer",
   "language": "python",
   "name": "python3"
  },
  "language_info": {
   "codemirror_mode": {
    "name": "ipython",
    "version": 3
   },
   "file_extension": ".py",
   "mimetype": "text/x-python",
   "name": "python",
   "nbconvert_exporter": "python",
   "pygments_lexer": "ipython3",
   "version": "3.9.16"
  },
  "orig_nbformat": 4,
  "vscode": {
   "interpreter": {
    "hash": "78c4187baaf57098bb0b3703ce789bfcb46625a5d8666ee97b80d797f8c6f211"
   }
  }
 },
 "nbformat": 4,
 "nbformat_minor": 2
}
